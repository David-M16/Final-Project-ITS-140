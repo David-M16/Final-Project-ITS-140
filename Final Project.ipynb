{
 "cells": [
  {
   "cell_type": "code",
   "execution_count": 5,
   "metadata": {},
   "outputs": [
    {
     "name": "stdout",
     "output_type": "stream",
     "text": [
      "Who are youalice\n",
      "You are in our system.\n"
     ]
    }
   ],
   "source": [
    "list_of_people = [\"bob\",\"ben\",\"ruby\",\"alice\"]\n",
    "list_of_pins = [\"1111\",\"2222\",\"3333\",\"4444\"]\n",
    "################################################\n",
    "user_name = input(\"Who are you\").lower()\n",
    "\n",
    "###############################################\n",
    "if user_name not in list_of_people:\n",
    "  print(\"You are not in our system.\")\n",
    "  \n",
    "  profile_create = input(\"Would you like to create a profile?\")\n",
    "  \n",
    "  if profile_create == \"yes\":\n",
    "    print(\"Lets begin\")\n",
    "    person_name = input(\"Whats your name?\")\n",
    "    list_of_people.append(person_name)\n",
    "    print(\"You should now be in our system.\")\n",
    "    print(list_of_people)\n",
    "\n",
    "\n",
    "    get_pin = input (\"Create a pin that is 4 digits long.\")\n",
    "\n",
    "    while len(get_pin) != 4:\n",
    "      get_pin = input (\"Create a pin that is 4 digits long.\")\n",
    "\n",
    "    if get_pin in list_of_pins:\n",
    "      print(\"This pin is taken.\")\n",
    "    else:\n",
    "      print(\"This pin is not taken.\")\n",
    "      pin_validation = input(\"Confirm your pin.\")\n",
    "      if pin_validation != get_pin:\n",
    "        print(\"Pins do not match.\")\n",
    "        while pin_validation != get_pin:\n",
    "            get_pin = input (\"Create a pin that is 4 digits long.\")\n",
    "        print(\"pins match.\")\n",
    "      else:\n",
    "        print(\"Pin successful.\")\n",
    "\n",
    "else:\n",
    "  print(\"You are in our system.\")\n",
    "\n",
    "         \n"
   ]
  },
  {
   "cell_type": "code",
   "execution_count": null,
   "metadata": {},
   "outputs": [],
   "source": []
  }
 ],
 "metadata": {
  "kernelspec": {
   "display_name": "Python 3",
   "language": "python",
   "name": "python3"
  },
  "language_info": {
   "codemirror_mode": {
    "name": "ipython",
    "version": 3
   },
   "file_extension": ".py",
   "mimetype": "text/x-python",
   "name": "python",
   "nbconvert_exporter": "python",
   "pygments_lexer": "ipython3",
   "version": "3.8.3"
  }
 },
 "nbformat": 4,
 "nbformat_minor": 4
}
